{
    "cells": [
        {
            "cell_type": "markdown",
            "metadata": {},
            "source": [
                "# API"
            ]
        },
        {
            "cell_type": "code",
            "execution_count": 4,
            "metadata": {},
            "outputs": [
                {
                    "name": "stdout",
                    "output_type": "stream",
                    "text": [
                        "Defaulting to user installation because normal site-packages is not writeable\n",
                        "Requirement already satisfied: spotipy in /home/vscode/.local/lib/python3.11/site-packages (2.24.0)\n",
                        "Requirement already satisfied: redis>=3.5.3 in /home/vscode/.local/lib/python3.11/site-packages (from spotipy) (5.0.8)\n",
                        "Requirement already satisfied: requests>=2.25.0 in /home/vscode/.local/lib/python3.11/site-packages (from spotipy) (2.27.1)\n",
                        "Requirement already satisfied: urllib3>=1.26.0 in /home/vscode/.local/lib/python3.11/site-packages (from spotipy) (1.26.20)\n",
                        "Requirement already satisfied: certifi>=2017.4.17 in /home/vscode/.local/lib/python3.11/site-packages (from requests>=2.25.0->spotipy) (2024.8.30)\n",
                        "Requirement already satisfied: charset-normalizer~=2.0.0 in /home/vscode/.local/lib/python3.11/site-packages (from requests>=2.25.0->spotipy) (2.0.12)\n",
                        "Requirement already satisfied: idna<4,>=2.5 in /home/vscode/.local/lib/python3.11/site-packages (from requests>=2.25.0->spotipy) (3.8)\n"
                    ]
                }
            ],
            "source": [
                "! pip install spotipy"
            ]
        },
        {
            "cell_type": "code",
            "execution_count": 12,
            "metadata": {},
            "outputs": [],
            "source": [
                "import os\n",
                "import pandas as pd\n",
                "import seaborn as sns\n",
                "from dotenv import load_dotenv\n",
                "import spotipy\n",
                "from spotipy.oauth2 import SpotifyClientCredentials\n",
                "import requests\n",
                "import matplotlib.pyplot as plt\n",
                "\n",
                "from dotenv import load_dotenv\n",
                "load_dotenv()\n",
                "\n",
                "client_id = os.getenv('CLIENT_ID')\n",
                "client_secret = os.getenv('CLIENT_SECRET')"
            ]
        },
        {
            "cell_type": "code",
            "execution_count": 13,
            "metadata": {},
            "outputs": [],
            "source": [
                "# Configura las credenciales para el cliente de Spotify\n",
                "client_credentials_manager = SpotifyClientCredentials(client_id=client_id, client_secret=client_secret)\n",
                "\n",
                "# Inicializa el cliente de Spotify\n",
                "sp = spotipy.Spotify(client_credentials_manager=client_credentials_manager)\n"
            ]
        },
        {
            "cell_type": "markdown",
            "metadata": {},
            "source": [
                "### Realizar solicitudes a la API"
            ]
        },
        {
            "cell_type": "code",
            "execution_count": 17,
            "metadata": {},
            "outputs": [
                {
                    "name": "stdout",
                    "output_type": "stream",
                    "text": [
                        "1. Si Antes Te Hubiera Conocido - Duración: 195824 ms - Popularidad: 96\n",
                        "2. QLONA - Duración: 172797 ms - Popularidad: 87\n",
                        "3. AMARGURA - Duración: 170480 ms - Popularidad: 87\n",
                        "4. MI EX TENÍA RAZÓN - Duración: 154374 ms - Popularidad: 85\n",
                        "5. PROVENZA - Duración: 207626 ms - Popularidad: 83\n",
                        "6. TQG - Duración: 197933 ms - Popularidad: 83\n",
                        "7. MIENTRAS ME CURO DEL CORA - Duración: 164386 ms - Popularidad: 82\n",
                        "8. MAMIII - Duración: 226093 ms - Popularidad: 80\n",
                        "9. CONTIGO (with Tiësto) - Duración: 192786 ms - Popularidad: 81\n",
                        "10. X SI VOLVEMOS - Duración: 200120 ms - Popularidad: 80\n"
                    ]
                }
            ],
            "source": [
                "# Especificamos el artista que queremos analizar \n",
                "artist_id = \"790FomKkXshlbRYZFtlgla\"\n",
                "\n",
                "top_tracks = sp.artist_top_tracks(artist_id)['tracks']\n",
                "\n",
                "# Imprimimos las diez mejores canciones, duracion y popularidad \n",
                "for idx, track in enumerate(top_tracks, start=1):\n",
                "    print(f\"{idx}. {track['name']} - Duración: {track['duration_ms']} ms - Popularidad: {track['popularity']}\")\n"
            ]
        },
        {
            "cell_type": "markdown",
            "metadata": {},
            "source": [
                "### Transformar a Pandas DataFrame"
            ]
        },
        {
            "cell_type": "code",
            "execution_count": 22,
            "metadata": {},
            "outputs": [
                {
                    "name": "stdout",
                    "output_type": "stream",
                    "text": [
                        "                           Name  Duration (minutes)  Popularity\n",
                        "0  Si Antes Te Hubiera Conocido            3.263733          96\n",
                        "1                         QLONA            2.879950          87\n",
                        "2                      AMARGURA            2.841333          87\n"
                    ]
                }
            ],
            "source": [
                "# Creamos un dataframe para las mejores canciones y visualizamos 3  \n",
                "tracks_df = pd.DataFrame([{\"Name\": track['name'], \"Duration (minutes)\": track['duration_ms'] / 60000, \"Popularity\": track['popularity']} for track in top_tracks])\n",
                "\n",
                "print(tracks_df.head(3))"
            ]
        },
        {
            "cell_type": "markdown",
            "metadata": {},
            "source": [
                "### Analizar relación estadística"
            ]
        },
        {
            "cell_type": "code",
            "execution_count": 25,
            "metadata": {},
            "outputs": [
                {
                    "data": {
                        "image/png": "[encoded data removed]",
                        "text/plain": [
                            "<Figure size 640x480 with 1 Axes>"
                        ]
                    },
                    "metadata": {},
                    "output_type": "display_data"
                }
            ],
            "source": [
                "scatter_plot = sns.scatterplot(data=tracks_df, x=\"Popularity\", y=\"Duration (minutes)\")\n",
                "plt.show()"
            ]
        },
        {
            "cell_type": "markdown",
            "metadata": {},
            "source": [
                "se puede observar que no hay relación directa entre la duracion de la canción y la popularidad"
            ]
        }
    ],
    "metadata": {
        "kernelspec": {
            "display_name": "Python 3.8.13 64-bit ('3.8.13')",
            "language": "python",
            "name": "python3"
        },
        "language_info": {
            "codemirror_mode": {
                "name": "ipython",
                "version": 3
            },
            "file_extension": ".py",
            "mimetype": "text/x-python",
            "name": "python",
            "nbconvert_exporter": "python",
            "pygments_lexer": "ipython3",
            "version": "3.11.4"
        },
        "orig_nbformat": 4,
        "vscode": {
            "interpreter": {
                "hash": "110cc1dee26208153f2972f08a2ad52b6a56238dc66d48e87fb757ef2996db56"
            }
        }
    },
    "nbformat": 4,
    "nbformat_minor": 2
}
